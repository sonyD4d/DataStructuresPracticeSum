{
 "metadata": {
  "language_info": {
   "codemirror_mode": {
    "name": "ipython",
    "version": 3
   },
   "file_extension": ".py",
   "mimetype": "text/x-python",
   "name": "python",
   "nbconvert_exporter": "python",
   "pygments_lexer": "ipython3",
   "version": "3.8.3-final"
  },
  "orig_nbformat": 2,
  "kernelspec": {
   "name": "python3",
   "display_name": "Python 3",
   "language": "python"
  }
 },
 "nbformat": 4,
 "nbformat_minor": 2,
 "cells": [
  {
   "source": [
    "# Farmer, Goat, Wolf and Cabbage puzzle\n",
    "*using state space method*\n",
    "\n",
    "***\n",
    "1. **State representation:** \n",
    "\\[Farmer , Goat , Wolf , Cabbage\\]\n",
    "* value: \n",
    "    * 1 -> Left bank\n",
    "    * 0 -> Right bank\n",
    "2. **Initial state :** \"1111\"\n",
    "3. **Final state :** \"0000\"\n",
    "***"
   ],
   "cell_type": "markdown",
   "metadata": {}
  },
  {
   "source": [
    "## Representing states"
   ],
   "cell_type": "markdown",
   "metadata": {}
  },
  {
   "cell_type": "code",
   "execution_count": 1,
   "metadata": {},
   "outputs": [],
   "source": [
    "#indices in array repsentation\n",
    "FARMER = 0\n",
    "GOAT = 1\n",
    "WOLF = 2\n",
    "CABBAGE = 3\n",
    "\n",
    "START_STATE = \"1111\"\n",
    "FINAL_STATE = \"0000\""
   ]
  },
  {
   "source": [
    "## To Check valid state\n"
   ],
   "cell_type": "markdown",
   "metadata": {}
  },
  {
   "cell_type": "code",
   "execution_count": 2,
   "metadata": {},
   "outputs": [],
   "source": [
    "def validState(state):\n",
    "    #if (Goat and Wolf) or (Goat and Cabbage) are not on the farmers side\n",
    "    if( (state[FARMER]!=state[GOAT] and state[GOAT]==state[WOLF]) or (state[FARMER]!=state[GOAT] and state[GOAT]==state[CABBAGE]) ):\n",
    "        return False\n",
    "    else:\n",
    "        return True"
   ]
  },
  {
   "source": [
    "## To move from one bank to another "
   ],
   "cell_type": "markdown",
   "metadata": {}
  },
  {
   "cell_type": "code",
   "execution_count": 3,
   "metadata": {},
   "outputs": [],
   "source": [
    "def move(obj , state):\n",
    "    if state[obj]=='0':\n",
    "        s='1'\n",
    "    else:\n",
    "        s='0'\n",
    "    return state[:obj]+s+state[obj+1:]"
   ]
  },
  {
   "source": [
    "## To get possible valid states from current state"
   ],
   "cell_type": "markdown",
   "metadata": {}
  },
  {
   "cell_type": "code",
   "execution_count": 4,
   "metadata": {},
   "outputs": [],
   "source": [
    "def nextStates(state):\n",
    "    possibleValidStates = []\n",
    "\n",
    "    #if farmer can move alone \n",
    "    nextState = move(FARMER , state)\n",
    "    if(validState(nextState)):\n",
    "        possibleValidStates.append(nextState)\n",
    "\n",
    "    #find possible things that a farmer can carry\n",
    "    for i in range(1,4):\n",
    "        if(state[FARMER] == state[i]):\n",
    "            nextState = move(FARMER , state)\n",
    "            nextState = move(i , nextState)\n",
    "            if(validState(nextState)):\n",
    "                possibleValidStates.append(nextState)\n",
    "    return possibleValidStates"
   ]
  },
  {
   "source": [
    "## To build state space graph and searching algorithm\n"
   ],
   "cell_type": "markdown",
   "metadata": {}
  },
  {
   "cell_type": "code",
   "execution_count": 5,
   "metadata": {
    "tags": []
   },
   "outputs": [],
   "source": [
    "class stateSpaceGraph:\n",
    "    def __init__(self):\n",
    "        self.nodeDict = dict() #adj list\n",
    "        self.treeNodes = set() #visited node list to build tree\n",
    "    \n",
    "    #recc function to build a tree\n",
    "    def buildTree(self,state):\n",
    "        if state not in self.treeNodes:\n",
    "            self.treeNodes.add(state)\n",
    "            adjStates=nextStates(state)\n",
    "            for i in adjStates:\n",
    "                s.addEdge(state,i)\n",
    "            for i in adjStates:\n",
    "                self.buildTree(i)\n",
    "    \n",
    "    def addEdge(self,fromNode,toNode):\n",
    "        #if visiting for the first time\n",
    "        if fromNode not in self.nodeDict:\n",
    "            self.nodeDict[fromNode]=[]\n",
    "        #add to adj list\n",
    "        self.nodeDict[fromNode].append(toNode)\n",
    "    \n",
    "    #to print state space graph\n",
    "    def __str__(self):\n",
    "        return (str(self.nodeDict))\n",
    "    \n",
    "    #BFS searching \n",
    "    def BFS(self):\n",
    "        q=[(START_STATE,[START_STATE])]\n",
    "        visited = set()\n",
    "        while(s):\n",
    "            (vertex,path) = q.pop(0)\n",
    "            if vertex not in visited:\n",
    "                if vertex == FINAL_STATE:\n",
    "                    return path\n",
    "                visited.add(vertex)\n",
    "                for i in self.nodeDict[vertex]:\n",
    "                    q.append((i,path+[i]))\n",
    "    \n",
    "    #DFS searching \n",
    "    def DFS(self):\n",
    "        s=[(START_STATE,[START_STATE])]\n",
    "        visited = set()\n",
    "        while(s):\n",
    "            (vertex,path) = s.pop()\n",
    "            if vertex not in visited:\n",
    "                if vertex == FINAL_STATE:\n",
    "                    return path\n",
    "                visited.add(vertex)\n",
    "                for i in self.nodeDict[vertex]:\n",
    "                    s.append((i,path+[i]))\n",
    "\n",
    "s=stateSpaceGraph()\n",
    "s.buildTree(START_STATE)"
   ]
  },
  {
   "source": [
    "## State space garph"
   ],
   "cell_type": "markdown",
   "metadata": {}
  },
  {
   "cell_type": "code",
   "execution_count": 6,
   "metadata": {},
   "outputs": [
    {
     "output_type": "stream",
     "name": "stdout",
     "text": [
      "{'1111': ['0011'], '0011': ['1011', '1111'], '1011': ['0011', '0001', '0010'], '0001': ['1101', '1011'], '1101': ['0001', '0100'], '0100': ['1100', '1110', '1101'], '1100': ['0100', '0000'], '0000': ['1100'], '1110': ['0010', '0100'], '0010': ['1110', '1011']}\n"
     ]
    }
   ],
   "source": [
    "print(s)"
   ]
  },
  {
   "source": [
    "# Solution"
   ],
   "cell_type": "markdown",
   "metadata": {}
  },
  {
   "source": [
    "## DFS"
   ],
   "cell_type": "markdown",
   "metadata": {}
  },
  {
   "cell_type": "code",
   "execution_count": 7,
   "metadata": {},
   "outputs": [
    {
     "output_type": "stream",
     "name": "stdout",
     "text": [
      "['1111', '0011', '1011', '0010', '1110', '0100', '1100', '0000']\n"
     ]
    }
   ],
   "source": [
    "print(s.DFS())"
   ]
  },
  {
   "source": [
    "## BFS"
   ],
   "cell_type": "markdown",
   "metadata": {}
  },
  {
   "cell_type": "code",
   "execution_count": 8,
   "metadata": {},
   "outputs": [
    {
     "output_type": "stream",
     "name": "stdout",
     "text": [
      "['1111', '0011', '1011', '0001', '1101', '0100', '1100', '0000']\n"
     ]
    }
   ],
   "source": [
    "print(s.BFS())"
   ]
  }
 ]
}