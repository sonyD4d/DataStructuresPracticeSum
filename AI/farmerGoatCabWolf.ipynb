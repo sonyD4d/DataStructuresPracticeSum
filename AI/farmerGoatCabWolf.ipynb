{
 "metadata": {
  "language_info": {
   "codemirror_mode": {
    "name": "ipython",
    "version": 3
   },
   "file_extension": ".py",
   "mimetype": "text/x-python",
   "name": "python",
   "nbconvert_exporter": "python",
   "pygments_lexer": "ipython3",
   "version": "3.8.3-final"
  },
  "orig_nbformat": 2,
  "kernelspec": {
   "name": "python3",
   "display_name": "Python 3",
   "language": "python"
  }
 },
 "nbformat": 4,
 "nbformat_minor": 2,
 "cells": [
  {
   "source": [
    "# Farmer, Goat, Wolf and Cabbage puzzle\n",
    "<p>using state space method</p>\n",
    "\n",
    "<h4>State representation: </h4>\n",
    "<p>[ Farmer , Goat , Wolf , Cabbage ]</p>\n",
    "<p style=\"color:blue\"> value:<br> 1 -> Left bank <br> 0 -> Right bank</p>\n",
    "\n",
    "<h4 style=\"display:inline-block;\" >Initial state : </h4><p style=\"display:inline-block;\" > \"1111\"</p><br>\n",
    "<h4 style=\"display:inline-block;\" >Final state : </h4><p style=\"display:inline-block;\" > \"0000\"</p>"
   ],
   "cell_type": "markdown",
   "metadata": {}
  },
  {
   "source": [
    "## Representing states"
   ],
   "cell_type": "markdown",
   "metadata": {}
  },
  {
   "cell_type": "code",
   "execution_count": 107,
   "metadata": {},
   "outputs": [],
   "source": [
    "FARMER = 0\n",
    "GOAT = 1\n",
    "WOLF = 2\n",
    "CABBAGE = 3\n",
    "\n",
    "START_STATE = \"1111\"\n",
    "FINAL_STATE = \"0000\""
   ]
  },
  {
   "source": [
    "## To Check valid state\n"
   ],
   "cell_type": "markdown",
   "metadata": {}
  },
  {
   "cell_type": "code",
   "execution_count": 108,
   "metadata": {},
   "outputs": [],
   "source": [
    "def validState(state):\n",
    "    #if (Goat and Wolf) or (Goat and Cabbage) are not on the farmers side\n",
    "    if( (state[FARMER]!=state[GOAT] and state[GOAT]==state[WOLF]) or (state[FARMER]!=state[GOAT] and state[GOAT]==state[CABBAGE]) ):\n",
    "        return False\n",
    "    else:\n",
    "        return True"
   ]
  },
  {
   "source": [
    "## To move from one bank to another "
   ],
   "cell_type": "markdown",
   "metadata": {}
  },
  {
   "cell_type": "code",
   "execution_count": 109,
   "metadata": {},
   "outputs": [],
   "source": [
    "def move(obj , state):\n",
    "    if state[obj]=='0':\n",
    "        s='1'\n",
    "    else:\n",
    "        s='0'\n",
    "    temp = state[:obj]+s+state[obj+1:]\n",
    "    return temp"
   ]
  },
  {
   "source": [
    "## To get possible valid states from current state"
   ],
   "cell_type": "markdown",
   "metadata": {}
  },
  {
   "cell_type": "code",
   "execution_count": 110,
   "metadata": {},
   "outputs": [
    {
     "output_type": "stream",
     "name": "stdout",
     "text": [
      "['1011', '1111']\n"
     ]
    }
   ],
   "source": [
    "def nextStates(state):\n",
    "    possibleValidStates = []\n",
    "\n",
    "    #if farmer can move alone \n",
    "    nextState = move(FARMER , state)\n",
    "    if(validState(nextState)):\n",
    "        possibleValidStates.append(nextState)\n",
    "\n",
    "    #find possible things that a farmer can carry\n",
    "    for i in range(1,4):\n",
    "        if(state[FARMER] == state[i]):\n",
    "            nextState = move(FARMER , state)\n",
    "            nextState = move(i , nextState)\n",
    "            if(validState(nextState)):\n",
    "                possibleValidStates.append(nextState)\n",
    "    return possibleValidStates\n",
    "print(nextStates(\"0011\"))"
   ]
  },
  {
   "source": [
    "## To build tree\n"
   ],
   "cell_type": "markdown",
   "metadata": {}
  },
  {
   "cell_type": "code",
   "execution_count": 111,
   "metadata": {
    "tags": []
   },
   "outputs": [
    {
     "output_type": "stream",
     "name": "stdout",
     "text": [
      "{'1111': ['0011'], '0011': ['1011', '1111'], '1011': ['0011', '0001', '0010'], '0001': ['1101', '1011'], '1101': ['0001', '0100'], '0100': ['1100', '1110', '1101'], '1100': ['0100', '0000'], '0000': ['1100'], '1110': ['0010', '0100'], '0010': ['1110', '1011']}\n"
     ]
    }
   ],
   "source": [
    "class stateSpaceGraph:\n",
    "    def __init__(self,startState):\n",
    "        self.nodeDict = dict()\n",
    "    def __str__(self):\n",
    "        return str(self.nodeDict)\n",
    "    def addEdge(self,fromNode,toNode):\n",
    "        if fromNode not in self.nodeDict:\n",
    "            self.nodeDict[fromNode]=[]\n",
    "        self.nodeDict[fromNode].extend(toNode)\n",
    "\n",
    "s=stateSpaceGraph(START_STATE)\n",
    "\n",
    "treeNodes = set()\n",
    "def buildTree(state):\n",
    "    if state not in treeNodes:\n",
    "        adjStates=nextStates(state)\n",
    "        s.addEdge(state,adjStates)\n",
    "        treeNodes.add(state)\n",
    "        for i in adjStates:\n",
    "            buildTree(i)\n",
    "\n",
    "\n",
    "buildTree(START_STATE)\n",
    "\n",
    "print(s)\n"
   ]
  },
  {
   "cell_type": "code",
   "execution_count": null,
   "metadata": {},
   "outputs": [],
   "source": []
  }
 ]
}