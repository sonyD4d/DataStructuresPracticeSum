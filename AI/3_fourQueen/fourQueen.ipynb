{
 "cells": [
  {
   "cell_type": "markdown",
   "metadata": {},
   "source": [
    "# N Queen Problem(N=4)"
   ]
  },
  {
   "cell_type": "markdown",
   "metadata": {},
   "source": [
    "## Initilize board and size"
   ]
  },
  {
   "cell_type": "code",
   "execution_count": 1,
   "metadata": {},
   "outputs": [],
   "source": [
    "board = [[0,0,0,0],[0,0,0,0],[0,0,0,0],[0,0,0,0]]\n",
    "N = 4"
   ]
  },
  {
   "cell_type": "markdown",
   "metadata": {},
   "source": [
    "## Method to check wheather the board is in safe state or not"
   ]
  },
  {
   "cell_type": "code",
   "execution_count": 2,
   "metadata": {},
   "outputs": [],
   "source": [
    "def safeState(board,row,col):\n",
    "    for i in range(N):\n",
    "        if (board[row][i]==1 or board[i][col]):\n",
    "            return False\n",
    "    for i in range(N):\n",
    "        for j in range(N):\n",
    "            if( (i+j==row+col) or (i-j==row-col) ):\n",
    "                if board[i][j]==1:\n",
    "                    return False\n",
    "    return True\n",
    "    "
   ]
  },
  {
   "cell_type": "markdown",
   "metadata": {},
   "source": [
    "## Recursive funtion to place queens\n",
    "\n",
    "* board : current status\n",
    "* row : current row will go till N(i.e:4)"
   ]
  },
  {
   "cell_type": "code",
   "execution_count": 3,
   "metadata": {},
   "outputs": [],
   "source": [
    "def solution(board,row):\n",
    "    if(row>=N):\n",
    "        return True #last+1 row -> all queens have been placed\n",
    "    else:\n",
    "        for col in range(N): #picking adj vertices \n",
    "            if(safeState(board,row,col)): #if it's valid then we rec move down to next level\n",
    "                print(\"placed in {0},{1} //FORWARD EDGE\".format(row+1,col+1))\n",
    "                board[row][col]=1\n",
    "                if(solution(board,row+1)):\n",
    "                    return True\n",
    "                print(\"Failed to place in {0},{1} //BACKTRACK:Level down\".format(row+1,col+1))\n",
    "                board[row][col]=0 #if solution is backtracked \n",
    "            else:\n",
    "                print(\"Failed to place in {0},{1} //BACKTRACK: move to adj\".format(row+1,col+1))\n",
    "    return False"
   ]
  },
  {
   "cell_type": "markdown",
   "metadata": {},
   "source": [
    "## Used to display the board "
   ]
  },
  {
   "cell_type": "code",
   "execution_count": 4,
   "metadata": {},
   "outputs": [],
   "source": [
    "def displayBoard(): \n",
    "    for i in range(N): \n",
    "        for j in range(N): \n",
    "            print (str(board[i][j]),end=\" \")\n",
    "        print() "
   ]
  },
  {
   "cell_type": "markdown",
   "metadata": {},
   "source": [
    "## Main function\n",
    "\n",
    "* user input to place initial queen\n",
    "* call solution function to solve the problem "
   ]
  },
  {
   "cell_type": "code",
   "execution_count": 5,
   "metadata": {},
   "outputs": [
    {
     "name": "stdout",
     "output_type": "stream",
     "text": [
      "Enter intial queen position:2\n",
      "Failed to place in 2,1 //BACKTRACK: move to adj\n",
      "Failed to place in 2,2 //BACKTRACK: move to adj\n",
      "Failed to place in 2,3 //BACKTRACK: move to adj\n",
      "placed in 2,4 //FORWARD EDGE\n",
      "placed in 3,1 //FORWARD EDGE\n",
      "Failed to place in 4,1 //BACKTRACK: move to adj\n",
      "Failed to place in 4,2 //BACKTRACK: move to adj\n",
      "placed in 4,3 //FORWARD EDGE\n",
      "Solution:\n",
      "0 1 0 0 \n",
      "0 0 0 1 \n",
      "1 0 0 0 \n",
      "0 0 1 0 \n"
     ]
    }
   ],
   "source": [
    "n = int(input(\"Enter intial queen position:\"))\n",
    "board[0][n-1]=1\n",
    "if(solution(board,1)):\n",
    "    print(\"Solution:\")\n",
    "    displayBoard()\n",
    "else:\n",
    "    print(\"No solution possible\")"
   ]
  }
 ],
 "metadata": {
  "kernelspec": {
   "display_name": "Python 3",
   "language": "python",
   "name": "python3"
  },
  "language_info": {
   "codemirror_mode": {
    "name": "ipython",
    "version": 3
   },
   "file_extension": ".py",
   "mimetype": "text/x-python",
   "name": "python",
   "nbconvert_exporter": "python",
   "pygments_lexer": "ipython3",
   "version": "3.8.5"
  }
 },
 "nbformat": 4,
 "nbformat_minor": 2
}
