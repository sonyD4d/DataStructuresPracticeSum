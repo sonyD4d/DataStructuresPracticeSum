{
 "cells": [
  {
   "cell_type": "code",
   "execution_count": 5,
   "metadata": {},
   "outputs": [],
   "source": [
    "import tensorflow as tf\n",
    "from tensorflow.keras import datasets , layers , models\n",
    "import matplotlib.pyplot as plt\n",
    "import numpy as np"
   ]
  },
  {
   "source": [
    "## Used to fetch test and training images\n",
    "\n",
    "Returns\n",
    "\n",
    "Tuple of Numpy arrays: (x_train, y_train), (x_test, y_test)\n",
    "\n",
    "1. x_train, x_test: images (num_samples, 3, 32, 32)\n",
    "\n",
    "2. y_train, y_test: labels (integers in range 0-9) each with shape (num_samples, 1)\n"
   ],
   "cell_type": "markdown",
   "metadata": {}
  },
  {
   "cell_type": "code",
   "execution_count": 6,
   "metadata": {},
   "outputs": [
    {
     "output_type": "stream",
     "name": "stdout",
     "text": [
      "Traning Data: (50000, 32, 32, 3) Labels: (50000, 1)\n"
     ]
    }
   ],
   "source": [
    "(X_train, y_train), (X_test,y_test) = datasets.cifar10.load_data()\n",
    "print(\"Traning Data: \"+str(X_train.shape)+\" Labels: \"+str(y_train.shape))"
   ]
  },
  {
   "source": [
    "## Reshaping 2D array to 1D array"
   ],
   "cell_type": "markdown",
   "metadata": {}
  },
  {
   "source": [
    "* reshape(m,n)\n",
    "    * m x n such that m*n elements else error \n",
    "    * -1 = auto   "
   ],
   "cell_type": "markdown",
   "metadata": {}
  },
  {
   "cell_type": "code",
   "execution_count": 7,
   "metadata": {},
   "outputs": [
    {
     "output_type": "execute_result",
     "data": {
      "text/plain": [
       "array([[6],\n",
       "       [9],\n",
       "       [9],\n",
       "       [4],\n",
       "       [1]], dtype=uint8)"
      ]
     },
     "metadata": {},
     "execution_count": 7
    }
   ],
   "source": [
    "y_train[:5]"
   ]
  },
  {
   "cell_type": "code",
   "execution_count": 8,
   "metadata": {},
   "outputs": [
    {
     "output_type": "execute_result",
     "data": {
      "text/plain": [
       "array([[6, 9, 9, 4, 1, 1, 2, 7, 8, 3],\n",
       "       [4, 7, 7, 2, 9, 9, 9, 3, 2, 6],\n",
       "       [4, 3, 6, 6, 2, 6, 3, 5, 4, 0],\n",
       "       [0, 9, 1, 3, 4, 0, 3, 7, 3, 3],\n",
       "       [5, 2, 2, 7, 1, 1, 1, 2, 2, 0]], dtype=uint8)"
      ]
     },
     "metadata": {},
     "execution_count": 8
    }
   ],
   "source": [
    "y_train = y_train.reshape(-1,10)\n",
    "y_train[:5]"
   ]
  },
  {
   "cell_type": "code",
   "execution_count": 9,
   "metadata": {},
   "outputs": [
    {
     "output_type": "execute_result",
     "data": {
      "text/plain": [
       "array([6, 9, 9, 4, 1], dtype=uint8)"
      ]
     },
     "metadata": {},
     "execution_count": 9
    }
   ],
   "source": [
    "\n",
    "y_train = y_train.reshape(-1,)\n",
    "y_train[:5]"
   ]
  },
  {
   "cell_type": "code",
   "execution_count": 10,
   "metadata": {},
   "outputs": [],
   "source": [
    "y_test = y_test.reshape(-1,)"
   ]
  },
  {
   "source": [
    "## Plottiong test images"
   ],
   "cell_type": "markdown",
   "metadata": {}
  },
  {
   "source": [
    "* defining classes acc to test data set\n",
    "<br>\n",
    "<img src=\"Capture.JPG\">"
   ],
   "cell_type": "markdown",
   "metadata": {}
  },
  {
   "cell_type": "code",
   "execution_count": 11,
   "metadata": {},
   "outputs": [],
   "source": [
    "classes = [\"airplane\",\"automobile\",\"bird\",\"cat\",\"deer\",\"dog\",\"frog\",\"horse\",\"ship\",\"truck\"]"
   ]
  },
  {
   "cell_type": "code",
   "execution_count": 12,
   "metadata": {},
   "outputs": [],
   "source": [
    "def plot_sample(X, y, index):\n",
    "    plt.figure(figsize = (15,2)) #size\n",
    "    plt.imshow(X[index])  #to plot \n",
    "    plt.xlabel(classes[y[index]]) #to show it's lable\n"
   ]
  },
  {
   "cell_type": "code",
   "execution_count": 13,
   "metadata": {},
   "outputs": [
    {
     "output_type": "display_data",
     "data": {
      "text/plain": "<Figure size 1080x144 with 1 Axes>",
      "image/svg+xml": "<?xml version=\"1.0\" encoding=\"utf-8\" standalone=\"no\"?>\r\n<!DOCTYPE svg PUBLIC \"-//W3C//DTD SVG 1.1//EN\"\r\n  \"http://www.w3.org/Graphics/SVG/1.1/DTD/svg11.dtd\">\r\n<!-- Created with matplotlib (https://matplotlib.org/) -->\r\n<svg height=\"155.576719pt\" version=\"1.1\" viewBox=\"0 0 142.845 155.576719\" width=\"142.845pt\" xmlns=\"http://www.w3.org/2000/svg\" xmlns:xlink=\"http://www.w3.org/1999/xlink\">\r\n <metadata>\r\n  <rdf:RDF xmlns:cc=\"http://creativecommons.org/ns#\" xmlns:dc=\"http://purl.org/dc/elements/1.1/\" xmlns:rdf=\"http://www.w3.org/1999/02/22-rdf-syntax-ns#\">\r\n   <cc:Work>\r\n    <dc:type rdf:resource=\"http://purl.org/dc/dcmitype/StillImage\"/>\r\n    <dc:date>2021-01-19T23:10:32.596928</dc:date>\r\n    <dc:format>image/svg+xml</dc:format>\r\n    <dc:creator>\r\n     <cc:Agent>\r\n      <dc:title>Matplotlib v3.3.2, https://matplotlib.org/</dc:title>\r\n     </cc:Agent>\r\n    </dc:creator>\r\n   </cc:Work>\r\n  </rdf:RDF>\r\n </metadata>\r\n <defs>\r\n  <style type=\"text/css\">*{stroke-linecap:butt;stroke-linejoin:round;}</style>\r\n </defs>\r\n <g id=\"figure_1\">\r\n  <g id=\"patch_1\">\r\n   <path d=\"M 0 155.576719 \r\nL 142.845 155.576719 \r\nL 142.845 0 \r\nL 0 0 \r\nz\r\n\" style=\"fill:none;\"/>\r\n  </g>\r\n  <g id=\"axes_1\">\r\n   <g id=\"patch_2\">\r\n    <path d=\"M 26.925 118.020469 \r\nL 135.645 118.020469 \r\nL 135.645 9.300469 \r\nL 26.925 9.300469 \r\nz\r\n\" style=\"fill:#ffffff;\"/>\r\n   </g>\r\n   <g clip-path=\"url(#p68562a8aa2)\">\r\n    <image height=\"109\" id=\"image5d17048788\" transform=\"scale(1 -1)translate(0 -109)\" width=\"109\" x=\"26.925\" xlink:href=\"data:image/png;base64,\r\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\" y=\"-9.020469\"/>\r\n   </g>\r\n   <g id=\"matplotlib.axis_1\">\r\n    <g id=\"xtick_1\">\r\n     <g id=\"line2d_1\">\r\n      <defs>\r\n       <path d=\"M 0 0 \r\nL 0 3.5 \r\n\" id=\"m456afccba0\" style=\"stroke:#000000;stroke-width:0.8;\"/>\r\n      </defs>\r\n      <g>\r\n       <use style=\"stroke:#000000;stroke-width:0.8;\" x=\"28.62375\" xlink:href=\"#m456afccba0\" y=\"118.020469\"/>\r\n      </g>\r\n     </g>\r\n     <g id=\"text_1\">\r\n      <!-- 0 -->\r\n      <g transform=\"translate(25.4425 132.618906)scale(0.1 -0.1)\">\r\n       <defs>\r\n        <path d=\"M 31.78125 66.40625 \r\nQ 24.171875 66.40625 20.328125 58.90625 \r\nQ 16.5 51.421875 16.5 36.375 \r\nQ 16.5 21.390625 20.328125 13.890625 \r\nQ 24.171875 6.390625 31.78125 6.390625 \r\nQ 39.453125 6.390625 43.28125 13.890625 \r\nQ 47.125 21.390625 47.125 36.375 \r\nQ 47.125 51.421875 43.28125 58.90625 \r\nQ 39.453125 66.40625 31.78125 66.40625 \r\nz\r\nM 31.78125 74.21875 \r\nQ 44.046875 74.21875 50.515625 64.515625 \r\nQ 56.984375 54.828125 56.984375 36.375 \r\nQ 56.984375 17.96875 50.515625 8.265625 \r\nQ 44.046875 -1.421875 31.78125 -1.421875 \r\nQ 19.53125 -1.421875 13.0625 8.265625 \r\nQ 6.59375 17.96875 6.59375 36.375 \r\nQ 6.59375 54.828125 13.0625 64.515625 \r\nQ 19.53125 74.21875 31.78125 74.21875 \r\nz\r\n\" id=\"DejaVuSans-48\"/>\r\n       </defs>\r\n       <use xlink:href=\"#DejaVuSans-48\"/>\r\n      </g>\r\n     </g>\r\n    </g>\r\n    <g id=\"xtick_2\">\r\n     <g id=\"line2d_2\">\r\n      <g>\r\n       <use style=\"stroke:#000000;stroke-width:0.8;\" x=\"96.57375\" xlink:href=\"#m456afccba0\" y=\"118.020469\"/>\r\n      </g>\r\n     </g>\r\n     <g id=\"text_2\">\r\n      <!-- 20 -->\r\n      <g transform=\"translate(90.21125 132.618906)scale(0.1 -0.1)\">\r\n       <defs>\r\n        <path d=\"M 19.1875 8.296875 \r\nL 53.609375 8.296875 \r\nL 53.609375 0 \r\nL 7.328125 0 \r\nL 7.328125 8.296875 \r\nQ 12.9375 14.109375 22.625 23.890625 \r\nQ 32.328125 33.6875 34.8125 36.53125 \r\nQ 39.546875 41.84375 41.421875 45.53125 \r\nQ 43.3125 49.21875 43.3125 52.78125 \r\nQ 43.3125 58.59375 39.234375 62.25 \r\nQ 35.15625 65.921875 28.609375 65.921875 \r\nQ 23.96875 65.921875 18.8125 64.3125 \r\nQ 13.671875 62.703125 7.8125 59.421875 \r\nL 7.8125 69.390625 \r\nQ 13.765625 71.78125 18.9375 73 \r\nQ 24.125 74.21875 28.421875 74.21875 \r\nQ 39.75 74.21875 46.484375 68.546875 \r\nQ 53.21875 62.890625 53.21875 53.421875 \r\nQ 53.21875 48.921875 51.53125 44.890625 \r\nQ 49.859375 40.875 45.40625 35.40625 \r\nQ 44.1875 33.984375 37.640625 27.21875 \r\nQ 31.109375 20.453125 19.1875 8.296875 \r\nz\r\n\" id=\"DejaVuSans-50\"/>\r\n       </defs>\r\n       <use xlink:href=\"#DejaVuSans-50\"/>\r\n       <use x=\"63.623047\" xlink:href=\"#DejaVuSans-48\"/>\r\n      </g>\r\n     </g>\r\n    </g>\r\n    <g id=\"text_3\">\r\n     <!-- automobile -->\r\n     <g transform=\"translate(53.074063 146.297031)scale(0.1 -0.1)\">\r\n      <defs>\r\n       <path d=\"M 34.28125 27.484375 \r\nQ 23.390625 27.484375 19.1875 25 \r\nQ 14.984375 22.515625 14.984375 16.5 \r\nQ 14.984375 11.71875 18.140625 8.90625 \r\nQ 21.296875 6.109375 26.703125 6.109375 \r\nQ 34.1875 6.109375 38.703125 11.40625 \r\nQ 43.21875 16.703125 43.21875 25.484375 \r\nL 43.21875 27.484375 \r\nz\r\nM 52.203125 31.203125 \r\nL 52.203125 0 \r\nL 43.21875 0 \r\nL 43.21875 8.296875 \r\nQ 40.140625 3.328125 35.546875 0.953125 \r\nQ 30.953125 -1.421875 24.3125 -1.421875 \r\nQ 15.921875 -1.421875 10.953125 3.296875 \r\nQ 6 8.015625 6 15.921875 \r\nQ 6 25.140625 12.171875 29.828125 \r\nQ 18.359375 34.515625 30.609375 34.515625 \r\nL 43.21875 34.515625 \r\nL 43.21875 35.40625 \r\nQ 43.21875 41.609375 39.140625 45 \r\nQ 35.0625 48.390625 27.6875 48.390625 \r\nQ 23 48.390625 18.546875 47.265625 \r\nQ 14.109375 46.140625 10.015625 43.890625 \r\nL 10.015625 52.203125 \r\nQ 14.9375 54.109375 19.578125 55.046875 \r\nQ 24.21875 56 28.609375 56 \r\nQ 40.484375 56 46.34375 49.84375 \r\nQ 52.203125 43.703125 52.203125 31.203125 \r\nz\r\n\" id=\"DejaVuSans-97\"/>\r\n       <path d=\"M 8.5 21.578125 \r\nL 8.5 54.6875 \r\nL 17.484375 54.6875 \r\nL 17.484375 21.921875 \r\nQ 17.484375 14.15625 20.5 10.265625 \r\nQ 23.53125 6.390625 29.59375 6.390625 \r\nQ 36.859375 6.390625 41.078125 11.03125 \r\nQ 45.3125 15.671875 45.3125 23.6875 \r\nL 45.3125 54.6875 \r\nL 54.296875 54.6875 \r\nL 54.296875 0 \r\nL 45.3125 0 \r\nL 45.3125 8.40625 \r\nQ 42.046875 3.421875 37.71875 1 \r\nQ 33.40625 -1.421875 27.6875 -1.421875 \r\nQ 18.265625 -1.421875 13.375 4.4375 \r\nQ 8.5 10.296875 8.5 21.578125 \r\nz\r\nM 31.109375 56 \r\nz\r\n\" id=\"DejaVuSans-117\"/>\r\n       <path d=\"M 18.3125 70.21875 \r\nL 18.3125 54.6875 \r\nL 36.8125 54.6875 \r\nL 36.8125 47.703125 \r\nL 18.3125 47.703125 \r\nL 18.3125 18.015625 \r\nQ 18.3125 11.328125 20.140625 9.421875 \r\nQ 21.96875 7.515625 27.59375 7.515625 \r\nL 36.8125 7.515625 \r\nL 36.8125 0 \r\nL 27.59375 0 \r\nQ 17.1875 0 13.234375 3.875 \r\nQ 9.28125 7.765625 9.28125 18.015625 \r\nL 9.28125 47.703125 \r\nL 2.6875 47.703125 \r\nL 2.6875 54.6875 \r\nL 9.28125 54.6875 \r\nL 9.28125 70.21875 \r\nz\r\n\" id=\"DejaVuSans-116\"/>\r\n       <path d=\"M 30.609375 48.390625 \r\nQ 23.390625 48.390625 19.1875 42.75 \r\nQ 14.984375 37.109375 14.984375 27.296875 \r\nQ 14.984375 17.484375 19.15625 11.84375 \r\nQ 23.34375 6.203125 30.609375 6.203125 \r\nQ 37.796875 6.203125 41.984375 11.859375 \r\nQ 46.1875 17.53125 46.1875 27.296875 \r\nQ 46.1875 37.015625 41.984375 42.703125 \r\nQ 37.796875 48.390625 30.609375 48.390625 \r\nz\r\nM 30.609375 56 \r\nQ 42.328125 56 49.015625 48.375 \r\nQ 55.71875 40.765625 55.71875 27.296875 \r\nQ 55.71875 13.875 49.015625 6.21875 \r\nQ 42.328125 -1.421875 30.609375 -1.421875 \r\nQ 18.84375 -1.421875 12.171875 6.21875 \r\nQ 5.515625 13.875 5.515625 27.296875 \r\nQ 5.515625 40.765625 12.171875 48.375 \r\nQ 18.84375 56 30.609375 56 \r\nz\r\n\" id=\"DejaVuSans-111\"/>\r\n       <path d=\"M 52 44.1875 \r\nQ 55.375 50.25 60.0625 53.125 \r\nQ 64.75 56 71.09375 56 \r\nQ 79.640625 56 84.28125 50.015625 \r\nQ 88.921875 44.046875 88.921875 33.015625 \r\nL 88.921875 0 \r\nL 79.890625 0 \r\nL 79.890625 32.71875 \r\nQ 79.890625 40.578125 77.09375 44.375 \r\nQ 74.3125 48.1875 68.609375 48.1875 \r\nQ 61.625 48.1875 57.5625 43.546875 \r\nQ 53.515625 38.921875 53.515625 30.90625 \r\nL 53.515625 0 \r\nL 44.484375 0 \r\nL 44.484375 32.71875 \r\nQ 44.484375 40.625 41.703125 44.40625 \r\nQ 38.921875 48.1875 33.109375 48.1875 \r\nQ 26.21875 48.1875 22.15625 43.53125 \r\nQ 18.109375 38.875 18.109375 30.90625 \r\nL 18.109375 0 \r\nL 9.078125 0 \r\nL 9.078125 54.6875 \r\nL 18.109375 54.6875 \r\nL 18.109375 46.1875 \r\nQ 21.1875 51.21875 25.484375 53.609375 \r\nQ 29.78125 56 35.6875 56 \r\nQ 41.65625 56 45.828125 52.96875 \r\nQ 50 49.953125 52 44.1875 \r\nz\r\n\" id=\"DejaVuSans-109\"/>\r\n       <path d=\"M 48.6875 27.296875 \r\nQ 48.6875 37.203125 44.609375 42.84375 \r\nQ 40.53125 48.484375 33.40625 48.484375 \r\nQ 26.265625 48.484375 22.1875 42.84375 \r\nQ 18.109375 37.203125 18.109375 27.296875 \r\nQ 18.109375 17.390625 22.1875 11.75 \r\nQ 26.265625 6.109375 33.40625 6.109375 \r\nQ 40.53125 6.109375 44.609375 11.75 \r\nQ 48.6875 17.390625 48.6875 27.296875 \r\nz\r\nM 18.109375 46.390625 \r\nQ 20.953125 51.265625 25.265625 53.625 \r\nQ 29.59375 56 35.59375 56 \r\nQ 45.5625 56 51.78125 48.09375 \r\nQ 58.015625 40.1875 58.015625 27.296875 \r\nQ 58.015625 14.40625 51.78125 6.484375 \r\nQ 45.5625 -1.421875 35.59375 -1.421875 \r\nQ 29.59375 -1.421875 25.265625 0.953125 \r\nQ 20.953125 3.328125 18.109375 8.203125 \r\nL 18.109375 0 \r\nL 9.078125 0 \r\nL 9.078125 75.984375 \r\nL 18.109375 75.984375 \r\nz\r\n\" id=\"DejaVuSans-98\"/>\r\n       <path d=\"M 9.421875 54.6875 \r\nL 18.40625 54.6875 \r\nL 18.40625 0 \r\nL 9.421875 0 \r\nz\r\nM 9.421875 75.984375 \r\nL 18.40625 75.984375 \r\nL 18.40625 64.59375 \r\nL 9.421875 64.59375 \r\nz\r\n\" id=\"DejaVuSans-105\"/>\r\n       <path d=\"M 9.421875 75.984375 \r\nL 18.40625 75.984375 \r\nL 18.40625 0 \r\nL 9.421875 0 \r\nz\r\n\" id=\"DejaVuSans-108\"/>\r\n       <path d=\"M 56.203125 29.59375 \r\nL 56.203125 25.203125 \r\nL 14.890625 25.203125 \r\nQ 15.484375 15.921875 20.484375 11.0625 \r\nQ 25.484375 6.203125 34.421875 6.203125 \r\nQ 39.59375 6.203125 44.453125 7.46875 \r\nQ 49.3125 8.734375 54.109375 11.28125 \r\nL 54.109375 2.78125 \r\nQ 49.265625 0.734375 44.1875 -0.34375 \r\nQ 39.109375 -1.421875 33.890625 -1.421875 \r\nQ 20.796875 -1.421875 13.15625 6.1875 \r\nQ 5.515625 13.8125 5.515625 26.8125 \r\nQ 5.515625 40.234375 12.765625 48.109375 \r\nQ 20.015625 56 32.328125 56 \r\nQ 43.359375 56 49.78125 48.890625 \r\nQ 56.203125 41.796875 56.203125 29.59375 \r\nz\r\nM 47.21875 32.234375 \r\nQ 47.125 39.59375 43.09375 43.984375 \r\nQ 39.0625 48.390625 32.421875 48.390625 \r\nQ 24.90625 48.390625 20.390625 44.140625 \r\nQ 15.875 39.890625 15.1875 32.171875 \r\nz\r\n\" id=\"DejaVuSans-101\"/>\r\n      </defs>\r\n      <use xlink:href=\"#DejaVuSans-97\"/>\r\n      <use x=\"61.279297\" xlink:href=\"#DejaVuSans-117\"/>\r\n      <use x=\"124.658203\" xlink:href=\"#DejaVuSans-116\"/>\r\n      <use x=\"163.867188\" xlink:href=\"#DejaVuSans-111\"/>\r\n      <use x=\"225.048828\" xlink:href=\"#DejaVuSans-109\"/>\r\n      <use x=\"322.460938\" xlink:href=\"#DejaVuSans-111\"/>\r\n      <use x=\"383.642578\" xlink:href=\"#DejaVuSans-98\"/>\r\n      <use x=\"447.119141\" xlink:href=\"#DejaVuSans-105\"/>\r\n      <use x=\"474.902344\" xlink:href=\"#DejaVuSans-108\"/>\r\n      <use x=\"502.685547\" xlink:href=\"#DejaVuSans-101\"/>\r\n     </g>\r\n    </g>\r\n   </g>\r\n   <g id=\"matplotlib.axis_2\">\r\n    <g id=\"ytick_1\">\r\n     <g id=\"line2d_3\">\r\n      <defs>\r\n       <path d=\"M 0 0 \r\nL -3.5 0 \r\n\" id=\"ma1030d85e1\" style=\"stroke:#000000;stroke-width:0.8;\"/>\r\n      </defs>\r\n      <g>\r\n       <use style=\"stroke:#000000;stroke-width:0.8;\" x=\"26.925\" xlink:href=\"#ma1030d85e1\" y=\"10.999219\"/>\r\n      </g>\r\n     </g>\r\n     <g id=\"text_4\">\r\n      <!-- 0 -->\r\n      <g transform=\"translate(13.5625 14.798438)scale(0.1 -0.1)\">\r\n       <use xlink:href=\"#DejaVuSans-48\"/>\r\n      </g>\r\n     </g>\r\n    </g>\r\n    <g id=\"ytick_2\">\r\n     <g id=\"line2d_4\">\r\n      <g>\r\n       <use style=\"stroke:#000000;stroke-width:0.8;\" x=\"26.925\" xlink:href=\"#ma1030d85e1\" y=\"44.974219\"/>\r\n      </g>\r\n     </g>\r\n     <g id=\"text_5\">\r\n      <!-- 10 -->\r\n      <g transform=\"translate(7.2 48.773438)scale(0.1 -0.1)\">\r\n       <defs>\r\n        <path d=\"M 12.40625 8.296875 \r\nL 28.515625 8.296875 \r\nL 28.515625 63.921875 \r\nL 10.984375 60.40625 \r\nL 10.984375 69.390625 \r\nL 28.421875 72.90625 \r\nL 38.28125 72.90625 \r\nL 38.28125 8.296875 \r\nL 54.390625 8.296875 \r\nL 54.390625 0 \r\nL 12.40625 0 \r\nz\r\n\" id=\"DejaVuSans-49\"/>\r\n       </defs>\r\n       <use xlink:href=\"#DejaVuSans-49\"/>\r\n       <use x=\"63.623047\" xlink:href=\"#DejaVuSans-48\"/>\r\n      </g>\r\n     </g>\r\n    </g>\r\n    <g id=\"ytick_3\">\r\n     <g id=\"line2d_5\">\r\n      <g>\r\n       <use style=\"stroke:#000000;stroke-width:0.8;\" x=\"26.925\" xlink:href=\"#ma1030d85e1\" y=\"78.949219\"/>\r\n      </g>\r\n     </g>\r\n     <g id=\"text_6\">\r\n      <!-- 20 -->\r\n      <g transform=\"translate(7.2 82.748438)scale(0.1 -0.1)\">\r\n       <use xlink:href=\"#DejaVuSans-50\"/>\r\n       <use x=\"63.623047\" xlink:href=\"#DejaVuSans-48\"/>\r\n      </g>\r\n     </g>\r\n    </g>\r\n    <g id=\"ytick_4\">\r\n     <g id=\"line2d_6\">\r\n      <g>\r\n       <use style=\"stroke:#000000;stroke-width:0.8;\" x=\"26.925\" xlink:href=\"#ma1030d85e1\" y=\"112.924219\"/>\r\n      </g>\r\n     </g>\r\n     <g id=\"text_7\">\r\n      <!-- 30 -->\r\n      <g transform=\"translate(7.2 116.723438)scale(0.1 -0.1)\">\r\n       <defs>\r\n        <path d=\"M 40.578125 39.3125 \r\nQ 47.65625 37.796875 51.625 33 \r\nQ 55.609375 28.21875 55.609375 21.1875 \r\nQ 55.609375 10.40625 48.1875 4.484375 \r\nQ 40.765625 -1.421875 27.09375 -1.421875 \r\nQ 22.515625 -1.421875 17.65625 -0.515625 \r\nQ 12.796875 0.390625 7.625 2.203125 \r\nL 7.625 11.71875 \r\nQ 11.71875 9.328125 16.59375 8.109375 \r\nQ 21.484375 6.890625 26.8125 6.890625 \r\nQ 36.078125 6.890625 40.9375 10.546875 \r\nQ 45.796875 14.203125 45.796875 21.1875 \r\nQ 45.796875 27.640625 41.28125 31.265625 \r\nQ 36.765625 34.90625 28.71875 34.90625 \r\nL 20.21875 34.90625 \r\nL 20.21875 43.015625 \r\nL 29.109375 43.015625 \r\nQ 36.375 43.015625 40.234375 45.921875 \r\nQ 44.09375 48.828125 44.09375 54.296875 \r\nQ 44.09375 59.90625 40.109375 62.90625 \r\nQ 36.140625 65.921875 28.71875 65.921875 \r\nQ 24.65625 65.921875 20.015625 65.03125 \r\nQ 15.375 64.15625 9.8125 62.3125 \r\nL 9.8125 71.09375 \r\nQ 15.4375 72.65625 20.34375 73.4375 \r\nQ 25.25 74.21875 29.59375 74.21875 \r\nQ 40.828125 74.21875 47.359375 69.109375 \r\nQ 53.90625 64.015625 53.90625 55.328125 \r\nQ 53.90625 49.265625 50.4375 45.09375 \r\nQ 46.96875 40.921875 40.578125 39.3125 \r\nz\r\n\" id=\"DejaVuSans-51\"/>\r\n       </defs>\r\n       <use xlink:href=\"#DejaVuSans-51\"/>\r\n       <use x=\"63.623047\" xlink:href=\"#DejaVuSans-48\"/>\r\n      </g>\r\n     </g>\r\n    </g>\r\n   </g>\r\n   <g id=\"patch_3\">\r\n    <path d=\"M 26.925 118.020469 \r\nL 26.925 9.300469 \r\n\" style=\"fill:none;stroke:#000000;stroke-linecap:square;stroke-linejoin:miter;stroke-width:0.8;\"/>\r\n   </g>\r\n   <g id=\"patch_4\">\r\n    <path d=\"M 135.645 118.020469 \r\nL 135.645 9.300469 \r\n\" style=\"fill:none;stroke:#000000;stroke-linecap:square;stroke-linejoin:miter;stroke-width:0.8;\"/>\r\n   </g>\r\n   <g id=\"patch_5\">\r\n    <path d=\"M 26.925 118.020469 \r\nL 135.645 118.020469 \r\n\" style=\"fill:none;stroke:#000000;stroke-linecap:square;stroke-linejoin:miter;stroke-width:0.8;\"/>\r\n   </g>\r\n   <g id=\"patch_6\">\r\n    <path d=\"M 26.925 9.300469 \r\nL 135.645 9.300469 \r\n\" style=\"fill:none;stroke:#000000;stroke-linecap:square;stroke-linejoin:miter;stroke-width:0.8;\"/>\r\n   </g>\r\n  </g>\r\n </g>\r\n <defs>\r\n  <clipPath id=\"p68562a8aa2\">\r\n   <rect height=\"108.72\" width=\"108.72\" x=\"26.925\" y=\"9.300469\"/>\r\n  </clipPath>\r\n </defs>\r\n</svg>\r\n",
      "image/png": "[encoded data removed]"
     },
     "metadata": {
      "needs_background": "light"
     }
    }
   ],
   "source": [
    "plot_sample(X_train, y_train, 311)"
   ]
  },
  {
   "cell_type": "code",
   "execution_count": 74,
   "metadata": {},
   "outputs": [
    {
     "output_type": "display_data",
     "data": {
      "text/plain": "<Figure size 1080x144 with 1 Axes>",
      "image/svg+xml": "<?xml version=\"1.0\" encoding=\"utf-8\" standalone=\"no\"?>\r\n<!DOCTYPE svg PUBLIC \"-//W3C//DTD SVG 1.1//EN\"\r\n  \"http://www.w3.org/Graphics/SVG/1.1/DTD/svg11.dtd\">\r\n<!-- Created with matplotlib (https://matplotlib.org/) -->\r\n<svg height=\"155.576719pt\" version=\"1.1\" viewBox=\"0 0 142.845 155.576719\" width=\"142.845pt\" xmlns=\"http://www.w3.org/2000/svg\" xmlns:xlink=\"http://www.w3.org/1999/xlink\">\r\n <metadata>\r\n  <rdf:RDF xmlns:cc=\"http://creativecommons.org/ns#\" xmlns:dc=\"http://purl.org/dc/elements/1.1/\" xmlns:rdf=\"http://www.w3.org/1999/02/22-rdf-syntax-ns#\">\r\n   <cc:Work>\r\n    <dc:type rdf:resource=\"http://purl.org/dc/dcmitype/StillImage\"/>\r\n    <dc:date>2021-01-19T23:05:13.791756</dc:date>\r\n    <dc:format>image/svg+xml</dc:format>\r\n    <dc:creator>\r\n     <cc:Agent>\r\n      <dc:title>Matplotlib v3.3.2, https://matplotlib.org/</dc:title>\r\n     </cc:Agent>\r\n    </dc:creator>\r\n   </cc:Work>\r\n  </rdf:RDF>\r\n </metadata>\r\n <defs>\r\n  <style type=\"text/css\">*{stroke-linecap:butt;stroke-linejoin:round;}</style>\r\n </defs>\r\n <g id=\"figure_1\">\r\n  <g id=\"patch_1\">\r\n   <path d=\"M 0 155.576719 \r\nL 142.845 155.576719 \r\nL 142.845 0 \r\nL 0 0 \r\nz\r\n\" style=\"fill:none;\"/>\r\n  </g>\r\n  <g id=\"axes_1\">\r\n   <g id=\"patch_2\">\r\n    <path d=\"M 26.925 118.020469 \r\nL 135.645 118.020469 \r\nL 135.645 9.300469 \r\nL 26.925 9.300469 \r\nz\r\n\" style=\"fill:#ffffff;\"/>\r\n   </g>\r\n   <g clip-path=\"url(#p4caa7769f3)\">\r\n    <image height=\"109\" id=\"image4f4dc82f82\" transform=\"scale(1 -1)translate(0 -109)\" width=\"109\" x=\"26.925\" xlink:href=\"data:image/png;base64,\r\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\" y=\"-9.020469\"/>\r\n   </g>\r\n   <g id=\"matplotlib.axis_1\">\r\n    <g id=\"xtick_1\">\r\n     <g id=\"line2d_1\">\r\n      <defs>\r\n       <path d=\"M 0 0 \r\nL 0 3.5 \r\n\" id=\"mf8638f3b11\" style=\"stroke:#000000;stroke-width:0.8;\"/>\r\n      </defs>\r\n      <g>\r\n       <use style=\"stroke:#000000;stroke-width:0.8;\" x=\"28.62375\" xlink:href=\"#mf8638f3b11\" y=\"118.020469\"/>\r\n      </g>\r\n     </g>\r\n     <g id=\"text_1\">\r\n      <!-- 0 -->\r\n      <g transform=\"translate(25.4425 132.618906)scale(0.1 -0.1)\">\r\n       <defs>\r\n        <path d=\"M 31.78125 66.40625 \r\nQ 24.171875 66.40625 20.328125 58.90625 \r\nQ 16.5 51.421875 16.5 36.375 \r\nQ 16.5 21.390625 20.328125 13.890625 \r\nQ 24.171875 6.390625 31.78125 6.390625 \r\nQ 39.453125 6.390625 43.28125 13.890625 \r\nQ 47.125 21.390625 47.125 36.375 \r\nQ 47.125 51.421875 43.28125 58.90625 \r\nQ 39.453125 66.40625 31.78125 66.40625 \r\nz\r\nM 31.78125 74.21875 \r\nQ 44.046875 74.21875 50.515625 64.515625 \r\nQ 56.984375 54.828125 56.984375 36.375 \r\nQ 56.984375 17.96875 50.515625 8.265625 \r\nQ 44.046875 -1.421875 31.78125 -1.421875 \r\nQ 19.53125 -1.421875 13.0625 8.265625 \r\nQ 6.59375 17.96875 6.59375 36.375 \r\nQ 6.59375 54.828125 13.0625 64.515625 \r\nQ 19.53125 74.21875 31.78125 74.21875 \r\nz\r\n\" id=\"DejaVuSans-48\"/>\r\n       </defs>\r\n       <use xlink:href=\"#DejaVuSans-48\"/>\r\n      </g>\r\n     </g>\r\n    </g>\r\n    <g id=\"xtick_2\">\r\n     <g id=\"line2d_2\">\r\n      <g>\r\n       <use style=\"stroke:#000000;stroke-width:0.8;\" x=\"96.57375\" xlink:href=\"#mf8638f3b11\" y=\"118.020469\"/>\r\n      </g>\r\n     </g>\r\n     <g id=\"text_2\">\r\n      <!-- 20 -->\r\n      <g transform=\"translate(90.21125 132.618906)scale(0.1 -0.1)\">\r\n       <defs>\r\n        <path d=\"M 19.1875 8.296875 \r\nL 53.609375 8.296875 \r\nL 53.609375 0 \r\nL 7.328125 0 \r\nL 7.328125 8.296875 \r\nQ 12.9375 14.109375 22.625 23.890625 \r\nQ 32.328125 33.6875 34.8125 36.53125 \r\nQ 39.546875 41.84375 41.421875 45.53125 \r\nQ 43.3125 49.21875 43.3125 52.78125 \r\nQ 43.3125 58.59375 39.234375 62.25 \r\nQ 35.15625 65.921875 28.609375 65.921875 \r\nQ 23.96875 65.921875 18.8125 64.3125 \r\nQ 13.671875 62.703125 7.8125 59.421875 \r\nL 7.8125 69.390625 \r\nQ 13.765625 71.78125 18.9375 73 \r\nQ 24.125 74.21875 28.421875 74.21875 \r\nQ 39.75 74.21875 46.484375 68.546875 \r\nQ 53.21875 62.890625 53.21875 53.421875 \r\nQ 53.21875 48.921875 51.53125 44.890625 \r\nQ 49.859375 40.875 45.40625 35.40625 \r\nQ 44.1875 33.984375 37.640625 27.21875 \r\nQ 31.109375 20.453125 19.1875 8.296875 \r\nz\r\n\" id=\"DejaVuSans-50\"/>\r\n       </defs>\r\n       <use xlink:href=\"#DejaVuSans-50\"/>\r\n       <use x=\"63.623047\" xlink:href=\"#DejaVuSans-48\"/>\r\n      </g>\r\n     </g>\r\n    </g>\r\n    <g id=\"text_3\">\r\n     <!-- truck -->\r\n     <g transform=\"translate(68.456094 146.297031)scale(0.1 -0.1)\">\r\n      <defs>\r\n       <path d=\"M 18.3125 70.21875 \r\nL 18.3125 54.6875 \r\nL 36.8125 54.6875 \r\nL 36.8125 47.703125 \r\nL 18.3125 47.703125 \r\nL 18.3125 18.015625 \r\nQ 18.3125 11.328125 20.140625 9.421875 \r\nQ 21.96875 7.515625 27.59375 7.515625 \r\nL 36.8125 7.515625 \r\nL 36.8125 0 \r\nL 27.59375 0 \r\nQ 17.1875 0 13.234375 3.875 \r\nQ 9.28125 7.765625 9.28125 18.015625 \r\nL 9.28125 47.703125 \r\nL 2.6875 47.703125 \r\nL 2.6875 54.6875 \r\nL 9.28125 54.6875 \r\nL 9.28125 70.21875 \r\nz\r\n\" id=\"DejaVuSans-116\"/>\r\n       <path d=\"M 41.109375 46.296875 \r\nQ 39.59375 47.171875 37.8125 47.578125 \r\nQ 36.03125 48 33.890625 48 \r\nQ 26.265625 48 22.1875 43.046875 \r\nQ 18.109375 38.09375 18.109375 28.8125 \r\nL 18.109375 0 \r\nL 9.078125 0 \r\nL 9.078125 54.6875 \r\nL 18.109375 54.6875 \r\nL 18.109375 46.1875 \r\nQ 20.953125 51.171875 25.484375 53.578125 \r\nQ 30.03125 56 36.53125 56 \r\nQ 37.453125 56 38.578125 55.875 \r\nQ 39.703125 55.765625 41.0625 55.515625 \r\nz\r\n\" id=\"DejaVuSans-114\"/>\r\n       <path d=\"M 8.5 21.578125 \r\nL 8.5 54.6875 \r\nL 17.484375 54.6875 \r\nL 17.484375 21.921875 \r\nQ 17.484375 14.15625 20.5 10.265625 \r\nQ 23.53125 6.390625 29.59375 6.390625 \r\nQ 36.859375 6.390625 41.078125 11.03125 \r\nQ 45.3125 15.671875 45.3125 23.6875 \r\nL 45.3125 54.6875 \r\nL 54.296875 54.6875 \r\nL 54.296875 0 \r\nL 45.3125 0 \r\nL 45.3125 8.40625 \r\nQ 42.046875 3.421875 37.71875 1 \r\nQ 33.40625 -1.421875 27.6875 -1.421875 \r\nQ 18.265625 -1.421875 13.375 4.4375 \r\nQ 8.5 10.296875 8.5 21.578125 \r\nz\r\nM 31.109375 56 \r\nz\r\n\" id=\"DejaVuSans-117\"/>\r\n       <path d=\"M 48.78125 52.59375 \r\nL 48.78125 44.1875 \r\nQ 44.96875 46.296875 41.140625 47.34375 \r\nQ 37.3125 48.390625 33.40625 48.390625 \r\nQ 24.65625 48.390625 19.8125 42.84375 \r\nQ 14.984375 37.3125 14.984375 27.296875 \r\nQ 14.984375 17.28125 19.8125 11.734375 \r\nQ 24.65625 6.203125 33.40625 6.203125 \r\nQ 37.3125 6.203125 41.140625 7.25 \r\nQ 44.96875 8.296875 48.78125 10.40625 \r\nL 48.78125 2.09375 \r\nQ 45.015625 0.34375 40.984375 -0.53125 \r\nQ 36.96875 -1.421875 32.421875 -1.421875 \r\nQ 20.0625 -1.421875 12.78125 6.34375 \r\nQ 5.515625 14.109375 5.515625 27.296875 \r\nQ 5.515625 40.671875 12.859375 48.328125 \r\nQ 20.21875 56 33.015625 56 \r\nQ 37.15625 56 41.109375 55.140625 \r\nQ 45.0625 54.296875 48.78125 52.59375 \r\nz\r\n\" id=\"DejaVuSans-99\"/>\r\n       <path d=\"M 9.078125 75.984375 \r\nL 18.109375 75.984375 \r\nL 18.109375 31.109375 \r\nL 44.921875 54.6875 \r\nL 56.390625 54.6875 \r\nL 27.390625 29.109375 \r\nL 57.625 0 \r\nL 45.90625 0 \r\nL 18.109375 26.703125 \r\nL 18.109375 0 \r\nL 9.078125 0 \r\nz\r\n\" id=\"DejaVuSans-107\"/>\r\n      </defs>\r\n      <use xlink:href=\"#DejaVuSans-116\"/>\r\n      <use x=\"39.208984\" xlink:href=\"#DejaVuSans-114\"/>\r\n      <use x=\"80.322266\" xlink:href=\"#DejaVuSans-117\"/>\r\n      <use x=\"143.701172\" xlink:href=\"#DejaVuSans-99\"/>\r\n      <use x=\"198.681641\" xlink:href=\"#DejaVuSans-107\"/>\r\n     </g>\r\n    </g>\r\n   </g>\r\n   <g id=\"matplotlib.axis_2\">\r\n    <g id=\"ytick_1\">\r\n     <g id=\"line2d_3\">\r\n      <defs>\r\n       <path d=\"M 0 0 \r\nL -3.5 0 \r\n\" id=\"m066f62a007\" style=\"stroke:#000000;stroke-width:0.8;\"/>\r\n      </defs>\r\n      <g>\r\n       <use style=\"stroke:#000000;stroke-width:0.8;\" x=\"26.925\" xlink:href=\"#m066f62a007\" y=\"10.999219\"/>\r\n      </g>\r\n     </g>\r\n     <g id=\"text_4\">\r\n      <!-- 0 -->\r\n      <g transform=\"translate(13.5625 14.798438)scale(0.1 -0.1)\">\r\n       <use xlink:href=\"#DejaVuSans-48\"/>\r\n      </g>\r\n     </g>\r\n    </g>\r\n    <g id=\"ytick_2\">\r\n     <g id=\"line2d_4\">\r\n      <g>\r\n       <use style=\"stroke:#000000;stroke-width:0.8;\" x=\"26.925\" xlink:href=\"#m066f62a007\" y=\"44.974219\"/>\r\n      </g>\r\n     </g>\r\n     <g id=\"text_5\">\r\n      <!-- 10 -->\r\n      <g transform=\"translate(7.2 48.773438)scale(0.1 -0.1)\">\r\n       <defs>\r\n        <path d=\"M 12.40625 8.296875 \r\nL 28.515625 8.296875 \r\nL 28.515625 63.921875 \r\nL 10.984375 60.40625 \r\nL 10.984375 69.390625 \r\nL 28.421875 72.90625 \r\nL 38.28125 72.90625 \r\nL 38.28125 8.296875 \r\nL 54.390625 8.296875 \r\nL 54.390625 0 \r\nL 12.40625 0 \r\nz\r\n\" id=\"DejaVuSans-49\"/>\r\n       </defs>\r\n       <use xlink:href=\"#DejaVuSans-49\"/>\r\n       <use x=\"63.623047\" xlink:href=\"#DejaVuSans-48\"/>\r\n      </g>\r\n     </g>\r\n    </g>\r\n    <g id=\"ytick_3\">\r\n     <g id=\"line2d_5\">\r\n      <g>\r\n       <use style=\"stroke:#000000;stroke-width:0.8;\" x=\"26.925\" xlink:href=\"#m066f62a007\" y=\"78.949219\"/>\r\n      </g>\r\n     </g>\r\n     <g id=\"text_6\">\r\n      <!-- 20 -->\r\n      <g transform=\"translate(7.2 82.748438)scale(0.1 -0.1)\">\r\n       <use xlink:href=\"#DejaVuSans-50\"/>\r\n       <use x=\"63.623047\" xlink:href=\"#DejaVuSans-48\"/>\r\n      </g>\r\n     </g>\r\n    </g>\r\n    <g id=\"ytick_4\">\r\n     <g id=\"line2d_6\">\r\n      <g>\r\n       <use style=\"stroke:#000000;stroke-width:0.8;\" x=\"26.925\" xlink:href=\"#m066f62a007\" y=\"112.924219\"/>\r\n      </g>\r\n     </g>\r\n     <g id=\"text_7\">\r\n      <!-- 30 -->\r\n      <g transform=\"translate(7.2 116.723438)scale(0.1 -0.1)\">\r\n       <defs>\r\n        <path d=\"M 40.578125 39.3125 \r\nQ 47.65625 37.796875 51.625 33 \r\nQ 55.609375 28.21875 55.609375 21.1875 \r\nQ 55.609375 10.40625 48.1875 4.484375 \r\nQ 40.765625 -1.421875 27.09375 -1.421875 \r\nQ 22.515625 -1.421875 17.65625 -0.515625 \r\nQ 12.796875 0.390625 7.625 2.203125 \r\nL 7.625 11.71875 \r\nQ 11.71875 9.328125 16.59375 8.109375 \r\nQ 21.484375 6.890625 26.8125 6.890625 \r\nQ 36.078125 6.890625 40.9375 10.546875 \r\nQ 45.796875 14.203125 45.796875 21.1875 \r\nQ 45.796875 27.640625 41.28125 31.265625 \r\nQ 36.765625 34.90625 28.71875 34.90625 \r\nL 20.21875 34.90625 \r\nL 20.21875 43.015625 \r\nL 29.109375 43.015625 \r\nQ 36.375 43.015625 40.234375 45.921875 \r\nQ 44.09375 48.828125 44.09375 54.296875 \r\nQ 44.09375 59.90625 40.109375 62.90625 \r\nQ 36.140625 65.921875 28.71875 65.921875 \r\nQ 24.65625 65.921875 20.015625 65.03125 \r\nQ 15.375 64.15625 9.8125 62.3125 \r\nL 9.8125 71.09375 \r\nQ 15.4375 72.65625 20.34375 73.4375 \r\nQ 25.25 74.21875 29.59375 74.21875 \r\nQ 40.828125 74.21875 47.359375 69.109375 \r\nQ 53.90625 64.015625 53.90625 55.328125 \r\nQ 53.90625 49.265625 50.4375 45.09375 \r\nQ 46.96875 40.921875 40.578125 39.3125 \r\nz\r\n\" id=\"DejaVuSans-51\"/>\r\n       </defs>\r\n       <use xlink:href=\"#DejaVuSans-51\"/>\r\n       <use x=\"63.623047\" xlink:href=\"#DejaVuSans-48\"/>\r\n      </g>\r\n     </g>\r\n    </g>\r\n   </g>\r\n   <g id=\"patch_3\">\r\n    <path d=\"M 26.925 118.020469 \r\nL 26.925 9.300469 \r\n\" style=\"fill:none;stroke:#000000;stroke-linecap:square;stroke-linejoin:miter;stroke-width:0.8;\"/>\r\n   </g>\r\n   <g id=\"patch_4\">\r\n    <path d=\"M 135.645 118.020469 \r\nL 135.645 9.300469 \r\n\" style=\"fill:none;stroke:#000000;stroke-linecap:square;stroke-linejoin:miter;stroke-width:0.8;\"/>\r\n   </g>\r\n   <g id=\"patch_5\">\r\n    <path d=\"M 26.925 118.020469 \r\nL 135.645 118.020469 \r\n\" style=\"fill:none;stroke:#000000;stroke-linecap:square;stroke-linejoin:miter;stroke-width:0.8;\"/>\r\n   </g>\r\n   <g id=\"patch_6\">\r\n    <path d=\"M 26.925 9.300469 \r\nL 135.645 9.300469 \r\n\" style=\"fill:none;stroke:#000000;stroke-linecap:square;stroke-linejoin:miter;stroke-width:0.8;\"/>\r\n   </g>\r\n  </g>\r\n </g>\r\n <defs>\r\n  <clipPath id=\"p4caa7769f3\">\r\n   <rect height=\"108.72\" width=\"108.72\" x=\"26.925\" y=\"9.300469\"/>\r\n  </clipPath>\r\n </defs>\r\n</svg>\r\n",
      "image/png": "[encoded data removed]"
     },
     "metadata": {
      "needs_background": "light"
     }
    }
   ],
   "source": [
    "plot_sample(X_train, y_train, 1)"
   ]
  },
  {
   "source": [
    "# ANN\n"
   ],
   "cell_type": "markdown",
   "metadata": {}
  },
  {
   "source": [
    "1) layers.Dense(<numer_of_nurons>, activation='<activation_function>')\n",
    "\n",
    "2) layers.Flatten(input_shape=<dimension*color>)-> 1d array of size \n",
    "\n",
    "Relu for learning and sigmoid for classifiaction\n",
    "\n",
    "ann.compile(parameters)\n",
    "\n",
    "    * optimizer = Gradient Decent\n",
    "        Optimizers\n",
    "            SGD\n",
    "            RMSprop\n",
    "            Adam\n",
    "            Adadelta\n",
    "            Adagrad\n",
    "            Adamax\n",
    "            Nadam\n",
    "            Ftrl \n",
    "    * loss = loss function\n",
    "    * metrices = Used to gudge performance of model"
   ],
   "cell_type": "markdown",
   "metadata": {}
  },
  {
   "cell_type": "code",
   "execution_count": 23,
   "metadata": {},
   "outputs": [],
   "source": [
    "ann = models.Sequential([\n",
    "        layers.Flatten(input_shape=(32,32,3)), # \n",
    "        layers.Dense(3000, activation='relu'),\n",
    "        layers.Dense(1000, activation='relu'),\n",
    "        layers.Dense(10, activation='sigmoid')    \n",
    "    ])\n",
    "\n",
    "ann.compile(optimizer='RMSprop',\n",
    "              loss='sparse_categorical_crossentropy',\n",
    "              metrics=['accuracy'])"
   ]
  },
  {
   "cell_type": "code",
   "execution_count": 24,
   "metadata": {},
   "outputs": [
    {
     "output_type": "stream",
     "name": "stdout",
     "text": [
      "Epoch 1/5\n",
      "313/313 [==============================] - 49s 155ms/step - loss: 9.6449 - accuracy: 0.1000\n",
      "Epoch 2/5\n",
      "313/313 [==============================] - 50s 160ms/step - loss: 9.6685 - accuracy: 0.1000\n",
      "Epoch 3/5\n",
      "313/313 [==============================] - 49s 156ms/step - loss: 9.6685 - accuracy: 0.1000\n",
      "Epoch 4/5\n",
      "313/313 [==============================] - 49s 155ms/step - loss: 9.6685 - accuracy: 0.1000\n",
      "Epoch 5/5\n",
      "313/313 [==============================] - 48s 153ms/step - loss: 9.6685 - accuracy: 0.1000\n"
     ]
    },
    {
     "output_type": "execute_result",
     "data": {
      "text/plain": [
       "<tensorflow.python.keras.callbacks.History at 0x27e5ca3dc40>"
      ]
     },
     "metadata": {},
     "execution_count": 24
    }
   ],
   "source": [
    "ann.fit(X_test, y_test, epochs=5)"
   ]
  },
  {
   "source": [
    "# CNN"
   ],
   "cell_type": "markdown",
   "metadata": {}
  },
  {
   "source": [
    "1) layers.Conv2D(filters, kernel_size, activation, input_shape)\n",
    "\n",
    "    * filters : no of filters ie: features\n",
    "    * kernal_size : filter size m*n\n",
    "    * activation : activation function\n",
    "    * input_shape : input dimension with layer set\n",
    "\n",
    "2) layers.MaxPooling2D()\n",
    "\n",
    "    * read theory"
   ],
   "cell_type": "markdown",
   "metadata": {}
  },
  {
   "cell_type": "code",
   "execution_count": 43,
   "metadata": {},
   "outputs": [],
   "source": [
    "cnn = models.Sequential([\n",
    "    layers.Conv2D(filters=32, kernel_size=(3, 3), activation='relu', input_shape=(32, 32, 3)),\n",
    "    layers.MaxPooling2D((2, 2)),\n",
    "    \n",
    "    layers.Conv2D(filters=64, kernel_size=(3, 3), activation='relu'),\n",
    "    layers.MaxPooling2D((2, 2)),\n",
    "    \n",
    "    layers.Flatten(),\n",
    "    layers.Dense(64, activation='relu'),\n",
    "    layers.Dense(10, activation='softmax')\n",
    "])"
   ]
  },
  {
   "cell_type": "code",
   "execution_count": 44,
   "metadata": {},
   "outputs": [],
   "source": [
    "cnn.compile(optimizer='adam',\n",
    "              loss='sparse_categorical_crossentropy',\n",
    "              metrics=['accuracy'])"
   ]
  },
  {
   "cell_type": "code",
   "execution_count": 46,
   "metadata": {},
   "outputs": [
    {
     "output_type": "stream",
     "name": "stdout",
     "text": [
      "Epoch 1/10\n",
      "313/313 [==============================] - 12s 38ms/step - loss: 0.8344 - accuracy: 0.7052\n",
      "Epoch 2/10\n",
      "313/313 [==============================] - 11s 34ms/step - loss: 0.7747 - accuracy: 0.7290\n",
      "Epoch 3/10\n",
      "313/313 [==============================] - 11s 36ms/step - loss: 0.6815 - accuracy: 0.7580\n",
      "Epoch 4/10\n",
      "313/313 [==============================] - 12s 37ms/step - loss: 0.6088 - accuracy: 0.7838\n",
      "Epoch 5/10\n",
      "313/313 [==============================] - 12s 38ms/step - loss: 0.5224 - accuracy: 0.8180\n",
      "Epoch 6/10\n",
      "313/313 [==============================] - 12s 38ms/step - loss: 0.4792 - accuracy: 0.8263\n",
      "Epoch 7/10\n",
      "313/313 [==============================] - 12s 37ms/step - loss: 0.4079 - accuracy: 0.8539\n",
      "Epoch 8/10\n",
      "313/313 [==============================] - 12s 39ms/step - loss: 0.3965 - accuracy: 0.8613\n",
      "Epoch 9/10\n",
      "313/313 [==============================] - 12s 39ms/step - loss: 0.3646 - accuracy: 0.8745\n",
      "Epoch 10/10\n",
      "313/313 [==============================] - 12s 37ms/step - loss: 0.3091 - accuracy: 0.8912\n"
     ]
    },
    {
     "output_type": "execute_result",
     "data": {
      "text/plain": [
       "<tensorflow.python.keras.callbacks.History at 0x19c8433fc10>"
      ]
     },
     "metadata": {},
     "execution_count": 46
    }
   ],
   "source": [
    "cnn.fit(X_test, y_test, epochs=10)\n"
   ]
  },
  {
   "cell_type": "code",
   "execution_count": null,
   "metadata": {},
   "outputs": [],
   "source": []
  }
 ],
 "metadata": {
  "kernelspec": {
   "name": "python3",
   "display_name": "Python 3.8.5 64-bit ('tf-gpu': conda)",
   "metadata": {
    "interpreter": {
     "hash": "96e92f5387f67c23a1ce8cb386cc1d82800c7efb909fe91cf9f143ff28e11bb7"
    }
   }
  },
  "language_info": {
   "codemirror_mode": {
    "name": "ipython",
    "version": 3
   },
   "file_extension": ".py",
   "mimetype": "text/x-python",
   "name": "python",
   "nbconvert_exporter": "python",
   "pygments_lexer": "ipython3",
   "version": "3.8.5-final"
  }
 },
 "nbformat": 4,
 "nbformat_minor": 2
}